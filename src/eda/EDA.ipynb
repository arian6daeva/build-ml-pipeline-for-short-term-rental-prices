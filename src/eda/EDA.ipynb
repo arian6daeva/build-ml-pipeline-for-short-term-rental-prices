{
 "cells": [
  {
   "cell_type": "markdown",
   "id": "26ebb2c1",
   "metadata": {},
   "source": [
    "# Exploratory Data Analysis\n",
    "\n",
    "## 1. Retrieve the artifact (sample.csv) from W&B and utilize pandas to read its contents"
   ]
  },
  {
   "cell_type": "code",
   "execution_count": 2,
   "id": "d04340d2",
   "metadata": {},
   "outputs": [
    {
     "name": "stderr",
     "output_type": "stream",
     "text": [
      "\u001b[34m\u001b[1mwandb\u001b[0m: Currently logged in as: \u001b[33marian-afzaly\u001b[0m. Use \u001b[1m`wandb login --relogin`\u001b[0m to force relogin\n"
     ]
    },
    {
     "data": {
      "text/html": [
       "Tracking run with wandb version 0.14.0"
      ],
      "text/plain": [
       "<IPython.core.display.HTML object>"
      ]
     },
     "metadata": {},
     "output_type": "display_data"
    },
    {
     "data": {
      "text/html": [
       "Run data is saved locally in <code>/home/arian/udacity/build-ml-pipeline-for-short-term-rental-prices/src/eda/wandb/run-20230326_215702-v17wrzc7</code>"
      ],
      "text/plain": [
       "<IPython.core.display.HTML object>"
      ]
     },
     "metadata": {},
     "output_type": "display_data"
    },
    {
     "data": {
      "text/html": [
       "Syncing run <strong><a href='https://wandb.ai/arian-afzaly/nyc_airbnb/runs/v17wrzc7' target=\"_blank\">polar-planet-35</a></strong> to <a href='https://wandb.ai/arian-afzaly/nyc_airbnb' target=\"_blank\">Weights & Biases</a> (<a href='https://wandb.me/run' target=\"_blank\">docs</a>)<br/>"
      ],
      "text/plain": [
       "<IPython.core.display.HTML object>"
      ]
     },
     "metadata": {},
     "output_type": "display_data"
    },
    {
     "data": {
      "text/html": [
       " View project at <a href='https://wandb.ai/arian-afzaly/nyc_airbnb' target=\"_blank\">https://wandb.ai/arian-afzaly/nyc_airbnb</a>"
      ],
      "text/plain": [
       "<IPython.core.display.HTML object>"
      ]
     },
     "metadata": {},
     "output_type": "display_data"
    },
    {
     "data": {
      "text/html": [
       " View run at <a href='https://wandb.ai/arian-afzaly/nyc_airbnb/runs/v17wrzc7' target=\"_blank\">https://wandb.ai/arian-afzaly/nyc_airbnb/runs/v17wrzc7</a>"
      ],
      "text/plain": [
       "<IPython.core.display.HTML object>"
      ]
     },
     "metadata": {},
     "output_type": "display_data"
    }
   ],
   "source": [
    "import wandb\n",
    "import pandas as pd\n",
    "\n",
    "run = wandb.init(project=\"nyc_airbnb\", group=\"eda\", save_code=True)\n",
    "local_path = wandb.use_artifact(\"sample.csv:latest\").file()\n",
    "df = pd.read_csv(local_path)"
   ]
  },
  {
   "cell_type": "markdown",
   "id": "449dc111",
   "metadata": {},
   "source": [
    "## 2. Create a comprehensive profile of the dataframe using pandas-profiling"
   ]
  },
  {
   "cell_type": "code",
   "execution_count": 3,
   "id": "4745437b",
   "metadata": {},
   "outputs": [
    {
     "name": "stderr",
     "output_type": "stream",
     "text": [
      "/tmp/ipykernel_4840/2516835558.py:1: DeprecationWarning: `import pandas_profiling` is going to be deprecated by April 1st. Please use `import ydata_profiling` instead.\n",
      "  import pandas_profiling\n"
     ]
    },
    {
     "data": {
      "application/vnd.jupyter.widget-view+json": {
       "model_id": "2eaa7162bf174e66b529722da815c5fc",
       "version_major": 2,
       "version_minor": 0
      },
      "text/plain": [
       "Summarize dataset:   0%|          | 0/5 [00:00<?, ?it/s]"
      ]
     },
     "metadata": {},
     "output_type": "display_data"
    },
    {
     "data": {
      "application/vnd.jupyter.widget-view+json": {
       "model_id": "73c32bd78abf471db75c2f3156ab7098",
       "version_major": 2,
       "version_minor": 0
      },
      "text/plain": [
       "Generate report structure:   0%|          | 0/1 [00:00<?, ?it/s]"
      ]
     },
     "metadata": {},
     "output_type": "display_data"
    },
    {
     "data": {
      "application/vnd.jupyter.widget-view+json": {
       "model_id": "",
       "version_major": 2,
       "version_minor": 0
      },
      "text/plain": [
       "Render widgets:   0%|          | 0/1 [00:00<?, ?it/s]"
      ]
     },
     "metadata": {},
     "output_type": "display_data"
    },
    {
     "data": {
      "text/html": [
       "<div>\n",
       "<style scoped>\n",
       "    .dataframe tbody tr th:only-of-type {\n",
       "        vertical-align: middle;\n",
       "    }\n",
       "\n",
       "    .dataframe tbody tr th {\n",
       "        vertical-align: top;\n",
       "    }\n",
       "\n",
       "    .dataframe thead th {\n",
       "        text-align: right;\n",
       "    }\n",
       "</style>\n",
       "<table border=\"1\" class=\"dataframe\">\n",
       "  <thead>\n",
       "    <tr style=\"text-align: right;\">\n",
       "      <th></th>\n",
       "      <th>id</th>\n",
       "      <th>name</th>\n",
       "      <th>host_id</th>\n",
       "      <th>host_name</th>\n",
       "      <th>neighbourhood_group</th>\n",
       "      <th>neighbourhood</th>\n",
       "      <th>latitude</th>\n",
       "      <th>longitude</th>\n",
       "      <th>room_type</th>\n",
       "      <th>price</th>\n",
       "      <th>minimum_nights</th>\n",
       "      <th>number_of_reviews</th>\n",
       "      <th>last_review</th>\n",
       "      <th>reviews_per_month</th>\n",
       "      <th>calculated_host_listings_count</th>\n",
       "      <th>availability_365</th>\n",
       "    </tr>\n",
       "  </thead>\n",
       "  <tbody>\n",
       "    <tr>\n",
       "      <th>0</th>\n",
       "      <td>2539</td>\n",
       "      <td>Clean &amp; quiet apt home by the park</td>\n",
       "      <td>2787</td>\n",
       "      <td>John</td>\n",
       "      <td>Brooklyn</td>\n",
       "      <td>Kensington</td>\n",
       "      <td>40.64749</td>\n",
       "      <td>-73.97237</td>\n",
       "      <td>Private room</td>\n",
       "      <td>149</td>\n",
       "      <td>1</td>\n",
       "      <td>9</td>\n",
       "      <td>2018-10-19</td>\n",
       "      <td>0.21</td>\n",
       "      <td>6</td>\n",
       "      <td>365</td>\n",
       "    </tr>\n",
       "    <tr>\n",
       "      <th>1</th>\n",
       "      <td>2595</td>\n",
       "      <td>Skylit Midtown Castle</td>\n",
       "      <td>2845</td>\n",
       "      <td>Jennifer</td>\n",
       "      <td>Manhattan</td>\n",
       "      <td>Midtown</td>\n",
       "      <td>40.75362</td>\n",
       "      <td>-73.98377</td>\n",
       "      <td>Entire home/apt</td>\n",
       "      <td>225</td>\n",
       "      <td>1</td>\n",
       "      <td>45</td>\n",
       "      <td>2019-05-21</td>\n",
       "      <td>0.38</td>\n",
       "      <td>2</td>\n",
       "      <td>355</td>\n",
       "    </tr>\n",
       "    <tr>\n",
       "      <th>2</th>\n",
       "      <td>3647</td>\n",
       "      <td>THE VILLAGE OF HARLEM....NEW YORK !</td>\n",
       "      <td>4632</td>\n",
       "      <td>Elisabeth</td>\n",
       "      <td>Manhattan</td>\n",
       "      <td>Harlem</td>\n",
       "      <td>40.80902</td>\n",
       "      <td>-73.94190</td>\n",
       "      <td>Private room</td>\n",
       "      <td>150</td>\n",
       "      <td>3</td>\n",
       "      <td>0</td>\n",
       "      <td>NaN</td>\n",
       "      <td>NaN</td>\n",
       "      <td>1</td>\n",
       "      <td>365</td>\n",
       "    </tr>\n",
       "    <tr>\n",
       "      <th>3</th>\n",
       "      <td>3831</td>\n",
       "      <td>Cozy Entire Floor of Brownstone</td>\n",
       "      <td>4869</td>\n",
       "      <td>LisaRoxanne</td>\n",
       "      <td>Brooklyn</td>\n",
       "      <td>Clinton Hill</td>\n",
       "      <td>40.68514</td>\n",
       "      <td>-73.95976</td>\n",
       "      <td>Entire home/apt</td>\n",
       "      <td>89</td>\n",
       "      <td>1</td>\n",
       "      <td>270</td>\n",
       "      <td>2019-07-05</td>\n",
       "      <td>4.64</td>\n",
       "      <td>1</td>\n",
       "      <td>194</td>\n",
       "    </tr>\n",
       "    <tr>\n",
       "      <th>4</th>\n",
       "      <td>5022</td>\n",
       "      <td>Entire Apt: Spacious Studio/Loft by central park</td>\n",
       "      <td>7192</td>\n",
       "      <td>Laura</td>\n",
       "      <td>Manhattan</td>\n",
       "      <td>East Harlem</td>\n",
       "      <td>40.79851</td>\n",
       "      <td>-73.94399</td>\n",
       "      <td>Entire home/apt</td>\n",
       "      <td>80</td>\n",
       "      <td>10</td>\n",
       "      <td>9</td>\n",
       "      <td>2018-11-19</td>\n",
       "      <td>0.10</td>\n",
       "      <td>1</td>\n",
       "      <td>0</td>\n",
       "    </tr>\n",
       "    <tr>\n",
       "      <th>5</th>\n",
       "      <td>5099</td>\n",
       "      <td>Large Cozy 1 BR Apartment In Midtown East</td>\n",
       "      <td>7322</td>\n",
       "      <td>Chris</td>\n",
       "      <td>Manhattan</td>\n",
       "      <td>Murray Hill</td>\n",
       "      <td>40.74767</td>\n",
       "      <td>-73.97500</td>\n",
       "      <td>Entire home/apt</td>\n",
       "      <td>200</td>\n",
       "      <td>3</td>\n",
       "      <td>74</td>\n",
       "      <td>2019-06-22</td>\n",
       "      <td>0.59</td>\n",
       "      <td>1</td>\n",
       "      <td>129</td>\n",
       "    </tr>\n",
       "    <tr>\n",
       "      <th>6</th>\n",
       "      <td>5121</td>\n",
       "      <td>BlissArtsSpace!</td>\n",
       "      <td>7356</td>\n",
       "      <td>Garon</td>\n",
       "      <td>Brooklyn</td>\n",
       "      <td>Bedford-Stuyvesant</td>\n",
       "      <td>40.68688</td>\n",
       "      <td>-73.95596</td>\n",
       "      <td>Private room</td>\n",
       "      <td>60</td>\n",
       "      <td>45</td>\n",
       "      <td>49</td>\n",
       "      <td>2017-10-05</td>\n",
       "      <td>0.40</td>\n",
       "      <td>1</td>\n",
       "      <td>0</td>\n",
       "    </tr>\n",
       "    <tr>\n",
       "      <th>7</th>\n",
       "      <td>5178</td>\n",
       "      <td>Large Furnished Room Near B'way</td>\n",
       "      <td>8967</td>\n",
       "      <td>Shunichi</td>\n",
       "      <td>Manhattan</td>\n",
       "      <td>Hell's Kitchen</td>\n",
       "      <td>40.76489</td>\n",
       "      <td>-73.98493</td>\n",
       "      <td>Private room</td>\n",
       "      <td>79</td>\n",
       "      <td>2</td>\n",
       "      <td>430</td>\n",
       "      <td>2019-06-24</td>\n",
       "      <td>3.47</td>\n",
       "      <td>1</td>\n",
       "      <td>220</td>\n",
       "    </tr>\n",
       "    <tr>\n",
       "      <th>8</th>\n",
       "      <td>5203</td>\n",
       "      <td>Cozy Clean Guest Room - Family Apt</td>\n",
       "      <td>7490</td>\n",
       "      <td>MaryEllen</td>\n",
       "      <td>Manhattan</td>\n",
       "      <td>Upper West Side</td>\n",
       "      <td>40.80178</td>\n",
       "      <td>-73.96723</td>\n",
       "      <td>Private room</td>\n",
       "      <td>79</td>\n",
       "      <td>2</td>\n",
       "      <td>118</td>\n",
       "      <td>2017-07-21</td>\n",
       "      <td>0.99</td>\n",
       "      <td>1</td>\n",
       "      <td>0</td>\n",
       "    </tr>\n",
       "    <tr>\n",
       "      <th>9</th>\n",
       "      <td>5238</td>\n",
       "      <td>Cute &amp; Cozy Lower East Side 1 bdrm</td>\n",
       "      <td>7549</td>\n",
       "      <td>Ben</td>\n",
       "      <td>Manhattan</td>\n",
       "      <td>Chinatown</td>\n",
       "      <td>40.71344</td>\n",
       "      <td>-73.99037</td>\n",
       "      <td>Entire home/apt</td>\n",
       "      <td>150</td>\n",
       "      <td>1</td>\n",
       "      <td>160</td>\n",
       "      <td>2019-06-09</td>\n",
       "      <td>1.33</td>\n",
       "      <td>4</td>\n",
       "      <td>188</td>\n",
       "    </tr>\n",
       "  </tbody>\n",
       "</table>\n",
       "</div>"
      ],
      "text/plain": [
       "     id                                              name  host_id  \\\n",
       "0  2539                Clean & quiet apt home by the park     2787   \n",
       "1  2595                             Skylit Midtown Castle     2845   \n",
       "2  3647               THE VILLAGE OF HARLEM....NEW YORK !     4632   \n",
       "3  3831                   Cozy Entire Floor of Brownstone     4869   \n",
       "4  5022  Entire Apt: Spacious Studio/Loft by central park     7192   \n",
       "5  5099         Large Cozy 1 BR Apartment In Midtown East     7322   \n",
       "6  5121                                   BlissArtsSpace!     7356   \n",
       "7  5178                  Large Furnished Room Near B'way      8967   \n",
       "8  5203                Cozy Clean Guest Room - Family Apt     7490   \n",
       "9  5238                Cute & Cozy Lower East Side 1 bdrm     7549   \n",
       "\n",
       "     host_name neighbourhood_group       neighbourhood  latitude  longitude  \\\n",
       "0         John            Brooklyn          Kensington  40.64749  -73.97237   \n",
       "1     Jennifer           Manhattan             Midtown  40.75362  -73.98377   \n",
       "2    Elisabeth           Manhattan              Harlem  40.80902  -73.94190   \n",
       "3  LisaRoxanne            Brooklyn        Clinton Hill  40.68514  -73.95976   \n",
       "4        Laura           Manhattan         East Harlem  40.79851  -73.94399   \n",
       "5        Chris           Manhattan         Murray Hill  40.74767  -73.97500   \n",
       "6        Garon            Brooklyn  Bedford-Stuyvesant  40.68688  -73.95596   \n",
       "7     Shunichi           Manhattan      Hell's Kitchen  40.76489  -73.98493   \n",
       "8    MaryEllen           Manhattan     Upper West Side  40.80178  -73.96723   \n",
       "9          Ben           Manhattan           Chinatown  40.71344  -73.99037   \n",
       "\n",
       "         room_type  price  minimum_nights  number_of_reviews last_review  \\\n",
       "0     Private room    149               1                  9  2018-10-19   \n",
       "1  Entire home/apt    225               1                 45  2019-05-21   \n",
       "2     Private room    150               3                  0         NaN   \n",
       "3  Entire home/apt     89               1                270  2019-07-05   \n",
       "4  Entire home/apt     80              10                  9  2018-11-19   \n",
       "5  Entire home/apt    200               3                 74  2019-06-22   \n",
       "6     Private room     60              45                 49  2017-10-05   \n",
       "7     Private room     79               2                430  2019-06-24   \n",
       "8     Private room     79               2                118  2017-07-21   \n",
       "9  Entire home/apt    150               1                160  2019-06-09   \n",
       "\n",
       "   reviews_per_month  calculated_host_listings_count  availability_365  \n",
       "0               0.21                               6               365  \n",
       "1               0.38                               2               355  \n",
       "2                NaN                               1               365  \n",
       "3               4.64                               1               194  \n",
       "4               0.10                               1                 0  \n",
       "5               0.59                               1               129  \n",
       "6               0.40                               1                 0  \n",
       "7               3.47                               1               220  \n",
       "8               0.99                               1                 0  \n",
       "9               1.33                               4               188  "
      ]
     },
     "metadata": {},
     "output_type": "display_data"
    },
    {
     "data": {
      "application/vnd.jupyter.widget-view+json": {
       "model_id": "4c81d9f0758b4fa3a82d34a453fc2c7f",
       "version_major": 2,
       "version_minor": 0
      },
      "text/plain": [
       "VBox(children=(Tab(children=(Tab(children=(GridBox(children=(VBox(children=(GridspecLayout(children=(HTML(valu…"
      ]
     },
     "metadata": {},
     "output_type": "display_data"
    }
   ],
   "source": [
    "import pandas_profiling\n",
    "\n",
    "profile = pandas_profiling.ProfileReport(df)\n",
    "profile.to_widgets()"
   ]
  },
  {
   "cell_type": "markdown",
   "id": "8e01d2f6",
   "metadata": {},
   "source": [
    "## 3. Pre-process the data with the help of the findings through the profiling of the dataset\n",
    "\n",
    "The 'last_review' column contains dates, but it's represented as a string.\n",
    "The 'price' column contains both zero values and excessively high prices.\n",
    "\n",
    "Some columns also have missing values. We do not impute missing values, so we will be able to handle missing values also in production."
   ]
  },
  {
   "cell_type": "code",
   "execution_count": 4,
   "id": "03248cd6",
   "metadata": {},
   "outputs": [],
   "source": [
    "# Drop outliers\n",
    "min_price = 10\n",
    "max_price = 350\n",
    "idx = df['price'].between(min_price, max_price)\n",
    "df = df[idx].copy()\n",
    "\n",
    "# Convert last_review to datetime\n",
    "df['last_review'] = pd.to_datetime(df['last_review'])"
   ]
  },
  {
   "cell_type": "markdown",
   "id": "54417842",
   "metadata": {},
   "source": [
    "## 4. Verify that all apparent issues have been resolved"
   ]
  },
  {
   "cell_type": "code",
   "execution_count": 5,
   "id": "80fd4869",
   "metadata": {},
   "outputs": [
    {
     "name": "stdout",
     "output_type": "stream",
     "text": [
      "<class 'pandas.core.frame.DataFrame'>\n",
      "Int64Index: 46428 entries, 0 to 48894\n",
      "Data columns (total 16 columns):\n",
      " #   Column                          Non-Null Count  Dtype         \n",
      "---  ------                          --------------  -----         \n",
      " 0   id                              46428 non-null  int64         \n",
      " 1   name                            46413 non-null  object        \n",
      " 2   host_id                         46428 non-null  int64         \n",
      " 3   host_name                       46407 non-null  object        \n",
      " 4   neighbourhood_group             46428 non-null  object        \n",
      " 5   neighbourhood                   46428 non-null  object        \n",
      " 6   latitude                        46428 non-null  float64       \n",
      " 7   longitude                       46428 non-null  float64       \n",
      " 8   room_type                       46428 non-null  object        \n",
      " 9   price                           46428 non-null  int64         \n",
      " 10  minimum_nights                  46428 non-null  int64         \n",
      " 11  number_of_reviews               46428 non-null  int64         \n",
      " 12  last_review                     37246 non-null  datetime64[ns]\n",
      " 13  reviews_per_month               37246 non-null  float64       \n",
      " 14  calculated_host_listings_count  46428 non-null  int64         \n",
      " 15  availability_365                46428 non-null  int64         \n",
      "dtypes: datetime64[ns](1), float64(3), int64(7), object(5)\n",
      "memory usage: 6.0+ MB\n"
     ]
    }
   ],
   "source": [
    "df.info()"
   ]
  },
  {
   "cell_type": "markdown",
   "id": "7eaefa4d",
   "metadata": {},
   "source": [
    "## 5. Terminate the wandb run"
   ]
  },
  {
   "cell_type": "code",
   "execution_count": 6,
   "id": "03e1243f",
   "metadata": {},
   "outputs": [
    {
     "data": {
      "text/html": [
       "Waiting for W&B process to finish... <strong style=\"color:green\">(success).</strong>"
      ],
      "text/plain": [
       "<IPython.core.display.HTML object>"
      ]
     },
     "metadata": {},
     "output_type": "display_data"
    },
    {
     "data": {
      "text/html": [
       " View run <strong style=\"color:#cdcd00\">polar-planet-35</strong> at: <a href='https://wandb.ai/arian-afzaly/nyc_airbnb/runs/v17wrzc7' target=\"_blank\">https://wandb.ai/arian-afzaly/nyc_airbnb/runs/v17wrzc7</a><br/>Synced 7 W&B file(s), 0 media file(s), 3 artifact file(s) and 1 other file(s)"
      ],
      "text/plain": [
       "<IPython.core.display.HTML object>"
      ]
     },
     "metadata": {},
     "output_type": "display_data"
    },
    {
     "data": {
      "text/html": [
       "Find logs at: <code>./wandb/run-20230326_215702-v17wrzc7/logs</code>"
      ],
      "text/plain": [
       "<IPython.core.display.HTML object>"
      ]
     },
     "metadata": {},
     "output_type": "display_data"
    }
   ],
   "source": [
    "run.finish()"
   ]
  },
  {
   "cell_type": "code",
   "execution_count": null,
   "id": "d9bee879",
   "metadata": {},
   "outputs": [],
   "source": []
  }
 ],
 "metadata": {
  "kernelspec": {
   "display_name": "Python 3 (ipykernel)",
   "language": "python",
   "name": "python3"
  },
  "language_info": {
   "codemirror_mode": {
    "name": "ipython",
    "version": 3
   },
   "file_extension": ".py",
   "mimetype": "text/x-python",
   "name": "python",
   "nbconvert_exporter": "python",
   "pygments_lexer": "ipython3",
   "version": "3.10.9"
  }
 },
 "nbformat": 4,
 "nbformat_minor": 5
}
